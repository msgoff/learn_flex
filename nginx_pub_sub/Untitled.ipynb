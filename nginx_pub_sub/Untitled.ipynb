{
 "cells": [
  {
   "cell_type": "code",
   "execution_count": 1,
   "metadata": {},
   "outputs": [],
   "source": [
    "from redis import Redis\n",
    "import requests\n",
    "import time\n",
    "import json\n",
    "client = Redis()"
   ]
  },
  {
   "cell_type": "code",
   "execution_count": 2,
   "metadata": {},
   "outputs": [],
   "source": [
    "c_pub = requests.post('http://localhost/redis_pub/hello',json={'task':'merge 111 with github'}) "
   ]
  },
  {
   "cell_type": "code",
   "execution_count": 3,
   "metadata": {},
   "outputs": [
    {
     "data": {
      "text/plain": [
       "[b'{channel:/hello}',\n",
       " b'{channel:/hello}:messages',\n",
       " b'{channel:/hello}:msg:1582577978:0']"
      ]
     },
     "execution_count": 3,
     "metadata": {},
     "output_type": "execute_result"
    }
   ],
   "source": [
    "client.keys()"
   ]
  },
  {
   "cell_type": "code",
   "execution_count": 4,
   "metadata": {},
   "outputs": [
    {
     "name": "stdout",
     "output_type": "stream",
     "text": [
      "1582577978 \t merge 111 with github\n"
     ]
    }
   ],
   "source": [
    "channel=b'{channel:/hello}:msg:'\n",
    "for list_element in client.lrange(b'{channel:/hello}:messages',0,-1):\n",
    "    key = (channel+list_element)\n",
    "    resp = client.hgetall(key)\n",
    "    print(json.loads(resp[b'time']),'\\t',json.loads(resp[b'data'])['task'])"
   ]
  },
  {
   "cell_type": "code",
   "execution_count": null,
   "metadata": {},
   "outputs": [],
   "source": []
  },
  {
   "cell_type": "code",
   "execution_count": 5,
   "metadata": {},
   "outputs": [],
   "source": [
    "def new_task(task):\n",
    "    c_pub = requests.post('http://localhost/redis_pub/hello',json={'task':task}) "
   ]
  },
  {
   "cell_type": "code",
   "execution_count": 6,
   "metadata": {},
   "outputs": [],
   "source": [
    "new_task('nchan complete setup')"
   ]
  },
  {
   "cell_type": "code",
   "execution_count": 7,
   "metadata": {},
   "outputs": [
    {
     "name": "stdout",
     "output_type": "stream",
     "text": [
      "{1582578000: 'nchan complete setup', 1582577978: 'merge 111 with github'}\n"
     ]
    }
   ],
   "source": [
    "dct = {}\n",
    "channel=b'{channel:/hello}:msg:'\n",
    "for list_element in client.lrange(b'{channel:/hello}:messages',0,-1):\n",
    "    key = (channel+list_element)\n",
    "    resp = client.hgetall(key)\n",
    "    k,v = json.loads(resp[b'time']),json.loads(resp[b'data'])['task']\n",
    "    dct[k] = v\n",
    "print(dct)"
   ]
  },
  {
   "cell_type": "code",
   "execution_count": 97,
   "metadata": {},
   "outputs": [
    {
     "data": {
      "text/plain": [
       "{1582574490: 'setup messaging server'}"
      ]
     },
     "execution_count": 97,
     "metadata": {},
     "output_type": "execute_result"
    }
   ],
   "source": [
    "dct"
   ]
  },
  {
   "cell_type": "code",
   "execution_count": null,
   "metadata": {},
   "outputs": [],
   "source": [
    "1582578000: 'nchan complete setup',\n",
    "1582574490: 'setup messaging server'\n",
    "1582566600 \t start new iso build with updates\n",
    "1582565941 \t booting to usb\n",
    "1582564871 \t download debian 10.3\n",
    "1582563490 \t doing new server build here for testing\n",
    "1582563342 \t setup api key, test portal sync is good, password reset broken\n",
    "1582559540 \t 111 reboot test\n",
    "1582559242 \t updating ansible script for smoother process\n",
    "1582557798 \t 111 reboot test\n",
    "1582557788 \t update on 111 complete"
   ]
  }
 ],
 "metadata": {
  "kernelspec": {
   "display_name": "Python 3",
   "language": "python",
   "name": "python3"
  },
  "language_info": {
   "codemirror_mode": {
    "name": "ipython",
    "version": 3
   },
   "file_extension": ".py",
   "mimetype": "text/x-python",
   "name": "python",
   "nbconvert_exporter": "python",
   "pygments_lexer": "ipython3",
   "version": "3.7.3"
  }
 },
 "nbformat": 4,
 "nbformat_minor": 4
}
